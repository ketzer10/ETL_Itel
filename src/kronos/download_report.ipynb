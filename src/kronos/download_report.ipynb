{
 "cells": [
  {
   "cell_type": "code",
   "execution_count": 1,
   "id": "a64d4eab",
   "metadata": {
    "scrolled": true
   },
   "outputs": [],
   "source": [
    "import pandas as pd\n",
    "\n",
    "#from bs4 import BeautifulSoup\n",
    "from selenium import webdriver\n",
    "from selenium.webdriver.common.keys import Keys\n",
    "from selenium.common.exceptions import NoSuchAttributeException\n",
    "from webdriver_manager.chrome import ChromeDriverManager\n",
    "\n",
    "from time import sleep"
   ]
  },
  {
   "cell_type": "code",
   "execution_count": 2,
   "id": "b14def1c",
   "metadata": {},
   "outputs": [],
   "source": [
    "chrome_options = webdriver.ChromeOptions()\n",
    "chrome_options.add_argument('disable-notifications')\n",
    "chrome_options.add_argument(\"user-data-dir=C:/Users/Diego Naranjo/AppData/Local/Google/Chrome/User Data\")\n",
    "#chrome_options.add_experimental_option('excludeSwitches', ['enable-logging'])"
   ]
  },
  {
   "cell_type": "code",
   "execution_count": 3,
   "id": "5331434c",
   "metadata": {},
   "outputs": [],
   "source": [
    "URL = \"https://secure2.entertimeonline.com/ta/CoAd22560.clock\"\n",
    "USERNAME = \"DNolasco\"\n",
    "PASSWORD = \"hgxAinN!v3ttWfD\""
   ]
  },
  {
   "cell_type": "code",
   "execution_count": 4,
   "id": "c944d498",
   "metadata": {},
   "outputs": [
    {
     "name": "stderr",
     "output_type": "stream",
     "text": [
      "C:\\Users\\DIEGON~2\\AppData\\Local\\Temp/ipykernel_28416/2793185305.py:2: DeprecationWarning: executable_path has been deprecated, please pass in a Service object\n",
      "  driver = webdriver.Chrome(r'C:\\Users\\Diego Naranjo\\.wdm\\drivers\\chromedriver\\win32\\109.0.5414\\chromedriver.exe', options=chrome_options)\n"
     ]
    }
   ],
   "source": [
    "#driver = webdriver.Chrome(ChromeDriverManager().install(), options=chrome_options)\n",
    "driver = webdriver.Chrome(r'C:\\Users\\Diego Naranjo\\.wdm\\drivers\\chromedriver\\win32\\109.0.5414\\chromedriver.exe', options=chrome_options)"
   ]
  },
  {
   "cell_type": "code",
   "execution_count": 5,
   "id": "dfaa8dd2",
   "metadata": {},
   "outputs": [],
   "source": [
    "driver.get(URL)\n",
    "driver.implicitly_wait(3)"
   ]
  },
  {
   "cell_type": "code",
   "execution_count": 6,
   "id": "694f2874",
   "metadata": {},
   "outputs": [],
   "source": [
    "username_xpath = '//*[@id=\"FldUsername\"]/input'\n",
    "user = driver.find_element('xpath', username_xpath)\n",
    "user.send_keys(USERNAME)"
   ]
  },
  {
   "cell_type": "code",
   "execution_count": 7,
   "id": "98ec14f1",
   "metadata": {},
   "outputs": [],
   "source": [
    "password_xpath = '//*[@id=\"FldPasswordView\"]/input'\n",
    "password = driver.find_element('xpath', password_xpath)\n",
    "password.send_keys(PASSWORD)"
   ]
  },
  {
   "cell_type": "code",
   "execution_count": 8,
   "id": "ec322349",
   "metadata": {},
   "outputs": [],
   "source": [
    "login_button = '//*[@id=\"loginPage\"]/form/article/section[3]/div/div/fieldset/div[3]/button'\n",
    "login = driver.find_element('xpath', login_button)\n",
    "login.click()\n",
    "driver.implicitly_wait(5)"
   ]
  },
  {
   "cell_type": "code",
   "execution_count": 9,
   "id": "4c182b3b",
   "metadata": {},
   "outputs": [],
   "source": [
    "menu = '//*[@id=\"mainMenuBtn\"]'\n",
    "display_menu = driver.find_element('xpath', menu)\n",
    "display_menu.click()"
   ]
  },
  {
   "cell_type": "code",
   "execution_count": 10,
   "id": "853df699",
   "metadata": {},
   "outputs": [],
   "source": [
    "my_reports = '//*[@id=\"reports\"]'\n",
    "display_reports = driver.find_element('xpath', my_reports)\n",
    "display_reports.click()"
   ]
  },
  {
   "cell_type": "code",
   "execution_count": 11,
   "id": "595a1bcb",
   "metadata": {},
   "outputs": [],
   "source": [
    "saved_reports = '//*[@id=\"reports\"]/ul/li[2]'\n",
    "display_savedreports = driver.find_element('xpath', saved_reports)\n",
    "display_savedreports.click()\n",
    "driver.implicitly_wait(5)"
   ]
  },
  {
   "cell_type": "code",
   "execution_count": 12,
   "id": "e8620d60",
   "metadata": {},
   "outputs": [],
   "source": [
    "other_settings = '//*[@id=\"_feature\"]/div/div[3]/div[2]/div/div/div[2]/div[2]/div/div[1]/div[4]/div[3]/div[1]/div/ul/li/div/div/label/span[2]/input'\n",
    "click_othersettings = driver.find_element('xpath', other_settings)\n",
    "click_othersettings.click()"
   ]
  },
  {
   "cell_type": "code",
   "execution_count": 13,
   "id": "d902e731",
   "metadata": {},
   "outputs": [],
   "source": [
    "report = '//*[@id=\"_feature\"]/div/div[3]/div[2]/div/div/div[2]/div[2]/div/div[2]/div/div[82]/span'\n",
    "display_report = driver.find_element('xpath', report)\n",
    "display_report.click()\n",
    "driver.implicitly_wait(5)"
   ]
  },
  {
   "cell_type": "code",
   "execution_count": 14,
   "id": "ba32332f",
   "metadata": {},
   "outputs": [],
   "source": [
    "time_entry = '//*[@id=\"_feature\"]/div[2]/div[2]/div[2]/div/div/div[1]/div[4]/div[3]/div[1]/div/ul/li/div/div/button'\n",
    "#//*[@id=\"_feature\"]/div[2]/div[2]/div[2]/div/div/div[1]/div[4]/div[3]/div[1]/div/ul/li/div/div/button\n",
    "display_timeentry = driver.find_element('xpath', time_entry)\n",
    "display_timeentry.click()"
   ]
  },
  {
   "cell_type": "code",
   "execution_count": 15,
   "id": "d4c6bef5",
   "metadata": {},
   "outputs": [],
   "source": [
    "date_range = 'calendarType'\n",
    "display_daterange = driver.find_element('name', date_range)\n",
    "display_daterange.click()"
   ]
  },
  {
   "cell_type": "code",
   "execution_count": 16,
   "id": "93a0c97d",
   "metadata": {},
   "outputs": [],
   "source": [
    "display_range_menu = '//option[@value=\"40\"]'\n",
    "display_daterangemenu = driver.find_element('xpath', display_range_menu)\n",
    "display_daterangemenu.click()"
   ]
  },
  {
   "cell_type": "code",
   "execution_count": 17,
   "id": "d8dfad5c",
   "metadata": {},
   "outputs": [],
   "source": [
    "###Ultimos 30 dias siempre\n",
    "days_text = '//input[@class=\"required\"]'\n",
    "write_daystext = driver.find_element('xpath', days_text)\n",
    "write_daystext.send_keys(Keys.BACKSPACE)\n",
    "\n",
    "write_daystext.send_keys(\"30\")"
   ]
  },
  {
   "cell_type": "code",
   "execution_count": 19,
   "id": "37ec11c1",
   "metadata": {},
   "outputs": [],
   "source": [
    "##Click on apply\n",
    "apply = '//button[text()=\"Apply\"]'\n",
    "#//*[@id=\"___1676563988690___3_report_filters_panel\"]/div/div/div/span/div/div[3]/button[2]\n",
    "click_apply = driver.find_element('xpath', apply)\n",
    "click_apply.click()"
   ]
  },
  {
   "cell_type": "code",
   "execution_count": 20,
   "id": "c8eabd1b",
   "metadata": {},
   "outputs": [],
   "source": [
    "##Click on download options\n",
    "options = '//*[@id=\"_feature\"]/div[2]/div[2]/div[2]/div/div/div[1]/div[4]/div[3]/div[9]/div'\n",
    "click_options = driver.find_element('xpath', options)\n",
    "click_options.click()"
   ]
  },
  {
   "cell_type": "code",
   "execution_count": 129,
   "id": "aa793dda",
   "metadata": {},
   "outputs": [],
   "source": [
    "#Click on export\n",
    "#export = '//button[@class=\"sc-gtssRu cuPrgI\"]'\n",
    "#click_export = driver.find_element('xpath', export)\n",
    "#click_export.click()\n",
    "\n",
    "\n",
    "export = '//button[text()=\"Export...\"]'\n",
    "click_export = driver.find_element('xpath', export)\n",
    "click_export.click()"
   ]
  },
  {
   "cell_type": "code",
   "execution_count": 130,
   "id": "2d3bed64",
   "metadata": {},
   "outputs": [],
   "source": [
    "download = '//button[text()=\"Export\"]'\n",
    "click_download = driver.find_element('xpath', download)\n",
    "click_download.click()"
   ]
  },
  {
   "cell_type": "code",
   "execution_count": null,
   "id": "600a238f",
   "metadata": {},
   "outputs": [],
   "source": []
  }
 ],
 "metadata": {
  "kernelspec": {
   "display_name": "Python 3 (ipykernel)",
   "language": "python",
   "name": "python3"
  },
  "language_info": {
   "codemirror_mode": {
    "name": "ipython",
    "version": 3
   },
   "file_extension": ".py",
   "mimetype": "text/x-python",
   "name": "python",
   "nbconvert_exporter": "python",
   "pygments_lexer": "ipython3",
   "version": "3.10.0"
  }
 },
 "nbformat": 4,
 "nbformat_minor": 5
}
